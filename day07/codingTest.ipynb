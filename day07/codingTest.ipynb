{
 "cells": [
  {
   "cell_type": "markdown",
   "metadata": {},
   "source": [
    "### 2번"
   ]
  },
  {
   "cell_type": "code",
   "execution_count": 9,
   "metadata": {},
   "outputs": [],
   "source": [
    "def isQueueFull():\n",
    "    global SIZE, queue, front, rear\n",
    "    if rear != (SIZE - 1):\n",
    "        return False\n",
    "    elif rear == (SIZE-1) and front == -1:\n",
    "        return True\n",
    "    else:\n",
    "        return False\n",
    "    \n",
    "def isQueueEmpty():\n",
    "    global front, rear\n",
    "    if (front == rear):\n",
    "        return True\n",
    "    else:\n",
    "        return False\n",
    "    \n",
    "def enQueue(data):\n",
    "    global queue, rear\n",
    "    if isQueueFull():\n",
    "        print('큐가 꽉 찼습니다.')\n",
    "        return\n",
    "    else: \n",
    "        rear = (rear+1) % SIZE\n",
    "        queue[rear] = data\n",
    "\n",
    "\n",
    "def deQueue():\n",
    "    global SIZE, queue, front, rear\n",
    "    if isQueueEmpty() == True:\n",
    "        print('큐가 비어있습니다.')\n",
    "        return\n",
    "    else:\n",
    "        front = (front+1) % SIZE\n",
    "        data = queue[front]\n",
    "        queue[front] = None\n",
    "\n",
    "        while front != -1:\n",
    "            for i in range(front+1, SIZE):\n",
    "                queue[i-1] = queue[i]\n",
    "                queue[i] = None\n",
    "            front -= 1\n",
    "            rear -= 1\n",
    "\n",
    "        return data\n",
    "    \n",
    "def peek():\n",
    "    global SIZE, queue, front, rear\n",
    "    if isQueueEmpty() == True:\n",
    "        print('큐가 비어있습니다.')\n",
    "        return\n",
    "    else:\n",
    "        return queue[(front+1) % SIZE]\n",
    "    \n",
    "## 전역변수\n",
    "SIZE = 5\n",
    "queue = [None for _ in range(SIZE)]\n",
    "front = rear = -1"
   ]
  },
  {
   "cell_type": "code",
   "execution_count": 10,
   "metadata": {},
   "outputs": [
    {
     "name": "stdout",
     "output_type": "stream",
     "text": [
      "큐가 비어있습니다.\n",
      "다음번 입장객 None\n",
      "대기상태 : ['정국', None, None, None, None]\n",
      "대기상태 : ['정국', '뷔', None, None, None]\n",
      "대기상태 : ['정국', '뷔', '지민', None, None]\n",
      "대기상태 : ['정국', '뷔', '지민', 'RM', None]\n",
      "대기상태 : ['정국', '뷔', '지민', 'RM', '슈가']\n",
      "큐가 꽉 찼습니다.\n",
      "대기상태 : ['정국', '뷔', '지민', 'RM', '슈가']\n",
      "입장객 정국 입장\n",
      "대기상태 : ['뷔', '지민', 'RM', '슈가', None]\n",
      "입장객 뷔 입장\n",
      "대기상태 : ['지민', 'RM', '슈가', None, None]\n"
     ]
    }
   ],
   "source": [
    "## 메인코드\n",
    "if __name__ == '__main__':\n",
    "    while True:\n",
    "        select = input('대기줄 대기(e)/입장(d)/상태(p)/종료(x) > ')\n",
    "\n",
    "        if select.lower() == 'e': # enqueue\n",
    "            data = input('대기자 명 > ')\n",
    "            enQueue(data)\n",
    "            print(f'대기상태 : {queue}')\n",
    "        elif select.lower() == 'd': # dequeue\n",
    "            data = deQueue()\n",
    "            print(f'입장객 {data} 입장')\n",
    "            print(f'대기상태 : {queue}')\n",
    "        elif select.lower() == 'p': # peek\n",
    "            print(f'다음번 입장객 {peek()}')\n",
    "        elif select.lower() == 'x': # 종료\n",
    "            break\n",
    "        else:\n",
    "            continue"
   ]
  }
 ],
 "metadata": {
  "kernelspec": {
   "display_name": "Python 3",
   "language": "python",
   "name": "python3"
  },
  "language_info": {
   "codemirror_mode": {
    "name": "ipython",
    "version": 3
   },
   "file_extension": ".py",
   "mimetype": "text/x-python",
   "name": "python",
   "nbconvert_exporter": "python",
   "pygments_lexer": "ipython3",
   "version": "3.11.5"
  }
 },
 "nbformat": 4,
 "nbformat_minor": 2
}
